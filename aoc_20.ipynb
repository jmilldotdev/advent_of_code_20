{
 "metadata": {
  "language_info": {
   "codemirror_mode": {
    "name": "ipython",
    "version": 3
   },
   "file_extension": ".py",
   "mimetype": "text/x-python",
   "name": "python",
   "nbconvert_exporter": "python",
   "pygments_lexer": "ipython3",
   "version": "3.9.5"
  },
  "orig_nbformat": 4,
  "kernelspec": {
   "name": "python3",
   "display_name": "Python 3.9.5 64-bit ('soothmonitors-RjJQRSCT-py3.9': venv)"
  },
  "interpreter": {
   "hash": "65985d0f53ef72b866cda34f52269699eededadeab3912d5bc7f5675f4152ee2"
  }
 },
 "nbformat": 4,
 "nbformat_minor": 2,
 "cells": [
  {
   "cell_type": "code",
   "execution_count": 1,
   "metadata": {},
   "outputs": [],
   "source": [
    "%load_ext autoreload\n",
    "%autoreload 2\n",
    "\n",
    "import sys\n",
    "sys.path.append('..')"
   ]
  },
  {
   "cell_type": "code",
   "execution_count": 3,
   "metadata": {},
   "outputs": [],
   "source": [
    "import utils"
   ]
  },
  {
   "source": [
    "### 1.1"
   ],
   "cell_type": "markdown",
   "metadata": {}
  },
  {
   "cell_type": "code",
   "execution_count": 6,
   "metadata": {},
   "outputs": [],
   "source": [
    "data = utils.load_input(1)"
   ]
  },
  {
   "cell_type": "code",
   "execution_count": 9,
   "metadata": {},
   "outputs": [],
   "source": [
    "data = [int(d) for d in data]"
   ]
  },
  {
   "cell_type": "code",
   "execution_count": 14,
   "metadata": {},
   "outputs": [
    {
     "output_type": "stream",
     "name": "stdout",
     "text": [
      "866436\n866436\n"
     ]
    }
   ],
   "source": [
    "target = 2020\n",
    "for d in data:\n",
    "    missing = target - d\n",
    "    if missing in data:\n",
    "        print(d*missing)"
   ]
  },
  {
   "source": [
    "### 1.2"
   ],
   "cell_type": "markdown",
   "metadata": {}
  },
  {
   "cell_type": "code",
   "execution_count": 16,
   "metadata": {},
   "outputs": [
    {
     "output_type": "stream",
     "name": "stdout",
     "text": [
      "276650720\n276650720\n276650720\n"
     ]
    }
   ],
   "source": [
    "for idx, d in enumerate(data):\n",
    "    missing = target - d\n",
    "    for e in data[idx:]:\n",
    "        missing2 = missing - e\n",
    "        if missing2 in data:\n",
    "            print(d*e*missing2)"
   ]
  },
  {
   "source": [
    "### 2.1"
   ],
   "cell_type": "markdown",
   "metadata": {}
  },
  {
   "cell_type": "code",
   "execution_count": 23,
   "metadata": {},
   "outputs": [
    {
     "output_type": "execute_result",
     "data": {
      "text/plain": [
       "['4-5 r: rrrjr', '9-10 x: pxcbpxxwkqjttx', '8-13 b: rjbbbbvgrbrfjx']"
      ]
     },
     "metadata": {},
     "execution_count": 23
    }
   ],
   "source": [
    "data = utils.load_input(2)\n",
    "data[:3]"
   ]
  },
  {
   "cell_type": "code",
   "execution_count": 38,
   "metadata": {},
   "outputs": [
    {
     "output_type": "execute_result",
     "data": {
      "text/plain": [
       "398"
      ]
     },
     "metadata": {},
     "execution_count": 38
    }
   ],
   "source": [
    "valid = 0\n",
    "for d in data:\n",
    "    rule, password = d.split(': ')\n",
    "    rule_qty, rule_char = rule.split(' ')\n",
    "    rule_min, rule_max = rule_qty.split('-')\n",
    "    rule_qty = range(int(rule_min), int(rule_max)+1)\n",
    "    if len([i for i in password if i == rule_char]) in rule_qty:\n",
    "        valid += 1\n",
    "valid"
   ]
  },
  {
   "source": [
    "### 2.2"
   ],
   "cell_type": "markdown",
   "metadata": {}
  },
  {
   "cell_type": "code",
   "execution_count": 52,
   "metadata": {
    "tags": []
   },
   "outputs": [
    {
     "output_type": "execute_result",
     "data": {
      "text/plain": [
       "562"
      ]
     },
     "metadata": {},
     "execution_count": 52
    }
   ],
   "source": [
    "valid = 0\n",
    "for d in data:\n",
    "    rule, password = d.split(': ')\n",
    "    rule_qty, rule_char = rule.split(' ')\n",
    "    pos1, pos2 = rule_qty.split('-')\n",
    "    p1 = password[int(pos1)-1] == rule_char\n",
    "    p2 = password[int(pos2)-1] == rule_char\n",
    "    if p1 + p2 == 1:\n",
    "        valid += 1\n",
    "valid"
   ]
  },
  {
   "cell_type": "code",
   "execution_count": 48,
   "metadata": {},
   "outputs": [
    {
     "output_type": "execute_result",
     "data": {
      "text/plain": [
       "2"
      ]
     },
     "metadata": {},
     "execution_count": 48
    }
   ],
   "source": [
    "True + True"
   ]
  },
  {
   "source": [
    "### 3.1"
   ],
   "cell_type": "markdown",
   "metadata": {}
  },
  {
   "cell_type": "code",
   "execution_count": 53,
   "metadata": {},
   "outputs": [
    {
     "output_type": "execute_result",
     "data": {
      "text/plain": [
       "['......##....#...#..#.#....#....',\n",
       " '.......#...#..#..#....##.......',\n",
       " '#.#...#........###.#.##..#.....']"
      ]
     },
     "metadata": {},
     "execution_count": 53
    }
   ],
   "source": [
    "data = utils.load_input(3)\n",
    "data[:3]"
   ]
  },
  {
   "cell_type": "code",
   "execution_count": 55,
   "metadata": {},
   "outputs": [
    {
     "output_type": "execute_result",
     "data": {
      "text/plain": [
       "31"
      ]
     },
     "metadata": {},
     "execution_count": 55
    }
   ],
   "source": [
    "pattern_len = len(data[0])\n",
    "pattern_len"
   ]
  },
  {
   "cell_type": "code",
   "execution_count": 58,
   "metadata": {},
   "outputs": [
    {
     "output_type": "execute_result",
     "data": {
      "text/plain": [
       "252"
      ]
     },
     "metadata": {},
     "execution_count": 58
    }
   ],
   "source": [
    "trees = 0\n",
    "horiz = 3\n",
    "for row in data[1:]:\n",
    "    if row[horiz] == '#':\n",
    "        trees += 1\n",
    "    horiz += 3\n",
    "    horiz = horiz % pattern_len\n",
    "trees"
   ]
  },
  {
   "source": [
    "### 3.2"
   ],
   "cell_type": "markdown",
   "metadata": {}
  },
  {
   "cell_type": "code",
   "execution_count": 86,
   "metadata": {},
   "outputs": [],
   "source": [
    "def check_fn(data, right, down):\n",
    "    pattern_length = len(data[0])\n",
    "    trees = 0\n",
    "    horiz = right\n",
    "    start = down\n",
    "    for index, row in enumerate(data[start:]):\n",
    "        if index % down == 0:\n",
    "            if row[horiz % pattern_len] == '#':\n",
    "                trees += 1\n",
    "            horiz += right\n",
    "    return trees"
   ]
  },
  {
   "cell_type": "code",
   "execution_count": 87,
   "metadata": {},
   "outputs": [
    {
     "output_type": "execute_result",
     "data": {
      "text/plain": [
       "[57, 252, 64, 66, 43]"
      ]
     },
     "metadata": {},
     "execution_count": 87
    }
   ],
   "source": [
    "from functools import reduce\n",
    "\n",
    "slopes = [(1,1), (3,1), (5,1), (7,1), (1,2)]\n",
    "trees = [check_fn(data, d[0], d[1]) for d in slopes]\n",
    "trees"
   ]
  },
  {
   "cell_type": "code",
   "execution_count": 88,
   "metadata": {},
   "outputs": [
    {
     "output_type": "execute_result",
     "data": {
      "text/plain": [
       "2608962048"
      ]
     },
     "metadata": {},
     "execution_count": 88
    }
   ],
   "source": [
    "reduce(lambda a, b: a*b, trees)"
   ]
  },
  {
   "cell_type": "code",
   "execution_count": null,
   "metadata": {},
   "outputs": [],
   "source": []
  }
 ]
}
{
 "metadata": {
  "language_info": {
   "codemirror_mode": {
    "name": "ipython",
    "version": 3
   },
   "file_extension": ".py",
   "mimetype": "text/x-python",
   "name": "python",
   "nbconvert_exporter": "python",
   "pygments_lexer": "ipython3",
   "version": "3.9.5"
  },
  "orig_nbformat": 4,
  "kernelspec": {
   "name": "python3",
   "display_name": "Python 3.9.5 64-bit ('soothmonitors-RjJQRSCT-py3.9': venv)"
  },
  "interpreter": {
   "hash": "65985d0f53ef72b866cda34f52269699eededadeab3912d5bc7f5675f4152ee2"
  }
 },
 "nbformat": 4,
 "nbformat_minor": 2,
 "cells": [
  {
   "cell_type": "code",
   "execution_count": 2,
   "metadata": {},
   "outputs": [],
   "source": [
    "%load_ext autoreload\n",
    "%autoreload 2\n",
    "\n",
    "import sys\n",
    "sys.path.append('..')"
   ]
  },
  {
   "cell_type": "code",
   "execution_count": 16,
   "metadata": {},
   "outputs": [],
   "source": [
    "import utils\n",
    "import re"
   ]
  },
  {
   "source": [
    "### 1.1"
   ],
   "cell_type": "markdown",
   "metadata": {}
  },
  {
   "cell_type": "code",
   "execution_count": 6,
   "metadata": {},
   "outputs": [],
   "source": [
    "data = utils.load_input(1)"
   ]
  },
  {
   "cell_type": "code",
   "execution_count": 9,
   "metadata": {},
   "outputs": [],
   "source": [
    "data = [int(d) for d in data]"
   ]
  },
  {
   "cell_type": "code",
   "execution_count": 14,
   "metadata": {},
   "outputs": [
    {
     "output_type": "stream",
     "name": "stdout",
     "text": [
      "866436\n866436\n"
     ]
    }
   ],
   "source": [
    "target = 2020\n",
    "for d in data:\n",
    "    missing = target - d\n",
    "    if missing in data:\n",
    "        print(d*missing)"
   ]
  },
  {
   "source": [
    "### 1.2"
   ],
   "cell_type": "markdown",
   "metadata": {}
  },
  {
   "cell_type": "code",
   "execution_count": 16,
   "metadata": {},
   "outputs": [
    {
     "output_type": "stream",
     "name": "stdout",
     "text": [
      "276650720\n276650720\n276650720\n"
     ]
    }
   ],
   "source": [
    "for idx, d in enumerate(data):\n",
    "    missing = target - d\n",
    "    for e in data[idx:]:\n",
    "        missing2 = missing - e\n",
    "        if missing2 in data:\n",
    "            print(d*e*missing2)"
   ]
  },
  {
   "source": [
    "### 2.1"
   ],
   "cell_type": "markdown",
   "metadata": {}
  },
  {
   "cell_type": "code",
   "execution_count": 23,
   "metadata": {},
   "outputs": [
    {
     "output_type": "execute_result",
     "data": {
      "text/plain": [
       "['4-5 r: rrrjr', '9-10 x: pxcbpxxwkqjttx', '8-13 b: rjbbbbvgrbrfjx']"
      ]
     },
     "metadata": {},
     "execution_count": 23
    }
   ],
   "source": [
    "data = utils.load_input(2)\n",
    "data[:3]"
   ]
  },
  {
   "cell_type": "code",
   "execution_count": 38,
   "metadata": {},
   "outputs": [
    {
     "output_type": "execute_result",
     "data": {
      "text/plain": [
       "398"
      ]
     },
     "metadata": {},
     "execution_count": 38
    }
   ],
   "source": [
    "valid = 0\n",
    "for d in data:\n",
    "    rule, password = d.split(': ')\n",
    "    rule_qty, rule_char = rule.split(' ')\n",
    "    rule_min, rule_max = rule_qty.split('-')\n",
    "    rule_qty = range(int(rule_min), int(rule_max)+1)\n",
    "    if len([i for i in password if i == rule_char]) in rule_qty:\n",
    "        valid += 1\n",
    "valid"
   ]
  },
  {
   "source": [
    "### 2.2"
   ],
   "cell_type": "markdown",
   "metadata": {}
  },
  {
   "cell_type": "code",
   "execution_count": 52,
   "metadata": {
    "tags": []
   },
   "outputs": [
    {
     "output_type": "execute_result",
     "data": {
      "text/plain": [
       "562"
      ]
     },
     "metadata": {},
     "execution_count": 52
    }
   ],
   "source": [
    "valid = 0\n",
    "for d in data:\n",
    "    rule, password = d.split(': ')\n",
    "    rule_qty, rule_char = rule.split(' ')\n",
    "    pos1, pos2 = rule_qty.split('-')\n",
    "    p1 = password[int(pos1)-1] == rule_char\n",
    "    p2 = password[int(pos2)-1] == rule_char\n",
    "    if p1 + p2 == 1:\n",
    "        valid += 1\n",
    "valid"
   ]
  },
  {
   "cell_type": "code",
   "execution_count": 48,
   "metadata": {},
   "outputs": [
    {
     "output_type": "execute_result",
     "data": {
      "text/plain": [
       "2"
      ]
     },
     "metadata": {},
     "execution_count": 48
    }
   ],
   "source": [
    "True + True"
   ]
  },
  {
   "source": [
    "### 3.1"
   ],
   "cell_type": "markdown",
   "metadata": {}
  },
  {
   "cell_type": "code",
   "execution_count": 53,
   "metadata": {},
   "outputs": [
    {
     "output_type": "execute_result",
     "data": {
      "text/plain": [
       "['......##....#...#..#.#....#....',\n",
       " '.......#...#..#..#....##.......',\n",
       " '#.#...#........###.#.##..#.....']"
      ]
     },
     "metadata": {},
     "execution_count": 53
    }
   ],
   "source": [
    "data = utils.load_input(3)\n",
    "data[:3]"
   ]
  },
  {
   "cell_type": "code",
   "execution_count": 55,
   "metadata": {},
   "outputs": [
    {
     "output_type": "execute_result",
     "data": {
      "text/plain": [
       "31"
      ]
     },
     "metadata": {},
     "execution_count": 55
    }
   ],
   "source": [
    "pattern_len = len(data[0])\n",
    "pattern_len"
   ]
  },
  {
   "cell_type": "code",
   "execution_count": 58,
   "metadata": {},
   "outputs": [
    {
     "output_type": "execute_result",
     "data": {
      "text/plain": [
       "252"
      ]
     },
     "metadata": {},
     "execution_count": 58
    }
   ],
   "source": [
    "trees = 0\n",
    "horiz = 3\n",
    "for row in data[1:]:\n",
    "    if row[horiz] == '#':\n",
    "        trees += 1\n",
    "    horiz += 3\n",
    "    horiz = horiz % pattern_len\n",
    "trees"
   ]
  },
  {
   "source": [
    "### 3.2"
   ],
   "cell_type": "markdown",
   "metadata": {}
  },
  {
   "cell_type": "code",
   "execution_count": 86,
   "metadata": {},
   "outputs": [],
   "source": [
    "def check_fn(data, right, down):\n",
    "    pattern_length = len(data[0])\n",
    "    trees = 0\n",
    "    horiz = right\n",
    "    start = down\n",
    "    for index, row in enumerate(data[start:]):\n",
    "        if index % down == 0:\n",
    "            if row[horiz % pattern_len] == '#':\n",
    "                trees += 1\n",
    "            horiz += right\n",
    "    return trees"
   ]
  },
  {
   "cell_type": "code",
   "execution_count": 87,
   "metadata": {},
   "outputs": [
    {
     "output_type": "execute_result",
     "data": {
      "text/plain": [
       "[57, 252, 64, 66, 43]"
      ]
     },
     "metadata": {},
     "execution_count": 87
    }
   ],
   "source": [
    "from functools import reduce\n",
    "\n",
    "slopes = [(1,1), (3,1), (5,1), (7,1), (1,2)]\n",
    "trees = [check_fn(data, d[0], d[1]) for d in slopes]\n",
    "trees"
   ]
  },
  {
   "cell_type": "code",
   "execution_count": 88,
   "metadata": {},
   "outputs": [
    {
     "output_type": "execute_result",
     "data": {
      "text/plain": [
       "2608962048"
      ]
     },
     "metadata": {},
     "execution_count": 88
    }
   ],
   "source": [
    "reduce(lambda a, b: a*b, trees)"
   ]
  },
  {
   "source": [
    "### 4.1"
   ],
   "cell_type": "markdown",
   "metadata": {}
  },
  {
   "cell_type": "code",
   "execution_count": 9,
   "metadata": {},
   "outputs": [
    {
     "output_type": "execute_result",
     "data": {
      "text/plain": [
       "['hcl:5d90f0 cid:270 ecl:#66dc9c hgt:62cm byr:1945 pid:63201172 eyr:2026',\n",
       " 'ecl:amb byr:1943 iyr:2014 eyr:2028 pid:333051831',\n",
       " 'byr:1971 eyr:2021 iyr:2015 pid:158388040 hcl:#18171d ecl:brn hgt:179cm',\n",
       " 'byr:1936 pid:707057570 iyr:2014 ecl:amb cid:299 eyr:2030 hcl:#c0946f hgt:186cm',\n",
       " 'hgt:163cm iyr:2013 ecl:gry hcl:#86e981 byr:1939 eyr:2020 pid:241741372 cid:203',\n",
       " 'ecl:brn hcl:#341e13 pid:686617364 byr:1929 eyr:2029 hgt:160cm cid:280 iyr:2020',\n",
       " 'byr:2002 hcl:#623a2f pid:253005469 iyr:2011 ecl:hzl hgt:184cm eyr:2027',\n",
       " 'ecl:#bb984b eyr:2040 hgt:188in iyr:2005 hcl:c5be8e pid:174cm cid:161 byr:2004',\n",
       " 'ecl:oth iyr:2010 cid:128 hgt:153cm byr:1991 pid:24061445 eyr:2025 hcl:#54d43e',\n",
       " 'hcl:z iyr:2023 pid:981178503 ecl:gmt eyr:2038 byr:2004']"
      ]
     },
     "metadata": {},
     "execution_count": 9
    }
   ],
   "source": [
    "data = utils.load_input(4, lines=False)\n",
    "d = [d.replace('\\n', ' ') for d in data.split('\\n\\n')]\n",
    "d[:10]"
   ]
  },
  {
   "cell_type": "code",
   "execution_count": 10,
   "metadata": {},
   "outputs": [],
   "source": [
    "fields = ['byr', 'iyr', 'eyr', 'hgt', 'hcl', 'ecl', 'pid']"
   ]
  },
  {
   "cell_type": "code",
   "execution_count": 11,
   "metadata": {},
   "outputs": [
    {
     "output_type": "execute_result",
     "data": {
      "text/plain": [
       "216"
      ]
     },
     "metadata": {},
     "execution_count": 11
    }
   ],
   "source": [
    "valid = 0\n",
    "for passport in d:\n",
    "    if not any(s not in passport for s in fields):\n",
    "        valid += 1\n",
    "valid"
   ]
  },
  {
   "source": [
    "4.2"
   ],
   "cell_type": "markdown",
   "metadata": {}
  },
  {
   "cell_type": "code",
   "execution_count": 37,
   "metadata": {},
   "outputs": [
    {
     "output_type": "execute_result",
     "data": {
      "text/plain": [
       "150"
      ]
     },
     "metadata": {},
     "execution_count": 37
    }
   ],
   "source": [
    "def get_data(passport, fld):\n",
    "    return passport.split(f'{fld}:')[-1].split(' ')[0]\n",
    "\n",
    "def check_range(num_str, length, start, end):\n",
    "    if not len(num_str) == length:\n",
    "        return False\n",
    "    if not num_str.isdigit():\n",
    "        return False\n",
    "    if not start <= int(num_str) <= end:\n",
    "        return False\n",
    "    return True\n",
    "\n",
    "def check_fields(passport):\n",
    "    byr = get_data(passport, 'byr')\n",
    "    if not check_range(byr, 4, 1920, 2002):\n",
    "        return False\n",
    "\n",
    "    iyr = get_data(passport, 'iyr')\n",
    "    if not check_range(iyr, 4, 2010, 2020):\n",
    "        return False\n",
    "\n",
    "    eyr = get_data(passport, 'eyr')\n",
    "    if not check_range(eyr, 4, 2020, 2030):\n",
    "        return False\n",
    "\n",
    "    hgt = get_data(passport, 'hgt')\n",
    "    if hgt[-2:] not in ['cm', 'in']:\n",
    "        return False\n",
    "    if hgt[-2:] == 'cm':\n",
    "        if not check_range(hgt[:-2], 3, 150, 193):\n",
    "            return False\n",
    "    if hgt[-2:] == 'in':\n",
    "        if not check_range(hgt[:-2], 2, 59, 76):\n",
    "            return False\n",
    "\n",
    "    hcl = get_data(passport, 'hcl')\n",
    "    if len(hcl) != 7:\n",
    "        return False\n",
    "    if hcl[0] != '#':\n",
    "        return False\n",
    "    # skipped hex check lol\n",
    "    \n",
    "    ecl = get_data(passport, 'ecl')\n",
    "    if ecl not in ['amb', 'blu', 'brn', 'gry', 'grn', 'hzl', 'oth']:\n",
    "        return False\n",
    "\n",
    "    pid = get_data(passport, 'pid')\n",
    "    if not len(pid) == 9:\n",
    "        return False\n",
    "    if not pid.isdigit():\n",
    "        return False\n",
    "\n",
    "    return True\n",
    "\n",
    "\n",
    "valid = 0\n",
    "for passport in d:\n",
    "    if not any(s not in passport for s in fields):\n",
    "        valid += check_fields(passport)\n",
    "\n",
    "valid"
   ]
  },
  {
   "cell_type": "code",
   "execution_count": null,
   "metadata": {},
   "outputs": [],
   "source": []
  }
 ]
}